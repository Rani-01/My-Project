{
 "cells": [
  {
   "cell_type": "code",
   "execution_count": 1,
   "id": "d9cb3d39",
   "metadata": {},
   "outputs": [],
   "source": [
    "import random\n",
    "\n",
    "board = [\"-\", \"-\", \"-\",\n",
    "        \"-\", \"-\", \"-\",\n",
    "        \"-\", \"-\", \"-\"]\n",
    "currentPlayer = \"X\"\n",
    "winner = None\n",
    "gameRunning = True"
   ]
  },
  {
   "cell_type": "code",
   "execution_count": 2,
   "id": "0aeb32ea",
   "metadata": {},
   "outputs": [
    {
     "name": "stdout",
     "output_type": "stream",
     "text": [
      "- | - | - | \n",
      "-------------\n",
      "- | - | - | \n",
      "-------------\n",
      "- | - | - | \n"
     ]
    }
   ],
   "source": [
    "#Printing the game board\n",
    "def printBoard(board):\n",
    "    print(board[0] + \" | \" + board[1] + \" | \" + board[2] + \" | \")\n",
    "    print(\"-------------\")\n",
    "    print(board[3] + \" | \" + board[4] + \" | \" + board[5] + \" | \")\n",
    "    print(\"-------------\")\n",
    "    print(board[6] + \" | \" + board[7] + \" | \" + board[8] + \" | \")\n",
    "printBoard(board)"
   ]
  },
  {
   "cell_type": "code",
   "execution_count": 3,
   "id": "ed7a09c7",
   "metadata": {},
   "outputs": [],
   "source": [
    "#take player input\n",
    "def playerInput(board):\n",
    "    inp = int(input(\"Enter a number 1-9: \"))\n",
    "    if inp>=1 and inp<=9 and board[inp-1] == \"-\":\n",
    "        board[inp-1] = currentPlayer\n",
    "    else:\n",
    "        print(\"Oops player is already in that spot!\")"
   ]
  },
  {
   "cell_type": "code",
   "execution_count": 4,
   "id": "e5c6a41b",
   "metadata": {},
   "outputs": [],
   "source": [
    "#check for win or tie\n",
    "def checkHorizontal(board):\n",
    "    global winner\n",
    "    if board[0] == board[1] == board[2] and board[1] != \"-\":\n",
    "        winner = board[0]\n",
    "        return True\n",
    "    elif board[3] == board[4] == board[5] and board[3] != \"-\":\n",
    "        winner = board[3]\n",
    "        return True\n",
    "    elif board[6] == board[7] == board[8] and board[7] != \"-\":\n",
    "        winner = board[7]\n",
    "        return True    "
   ]
  },
  {
   "cell_type": "code",
   "execution_count": 5,
   "id": "bda429e9",
   "metadata": {},
   "outputs": [],
   "source": [
    "def checkRow(board):\n",
    "    global winner\n",
    "    if board[0] == board[3] == board[6] and board[0] != \"-\":\n",
    "        winner = board[0]\n",
    "        return True\n",
    "    elif board[1] == board[4] == board[7] and board[1] != \"-\":\n",
    "        winner = board[1]\n",
    "        return True\n",
    "    elif board[2] == board[5] == board[8] and board[2] != \"-\":\n",
    "        winner = board[2]\n",
    "        return True    "
   ]
  },
  {
   "cell_type": "code",
   "execution_count": 6,
   "id": "1cab60ee",
   "metadata": {},
   "outputs": [],
   "source": [
    "def checkDiag(board):\n",
    "    global winner\n",
    "    if board[0] == board[2] == board[8] and board[0] != \"-\":\n",
    "        winner = board[0]\n",
    "        return True\n",
    "    elif board[2] == board[4] == board[6] and board[2] != \"-\":\n",
    "        winner = board[2]\n",
    "        return True   "
   ]
  },
  {
   "cell_type": "code",
   "execution_count": 7,
   "id": "62a7e958",
   "metadata": {},
   "outputs": [],
   "source": [
    "def checkTie(board):\n",
    "    global gameRunning\n",
    "    if \"-\" not in board:\n",
    "        printBoard(board)\n",
    "        print(\"It is a tie!\")\n",
    "        gameRunning = False"
   ]
  },
  {
   "cell_type": "code",
   "execution_count": 8,
   "id": "84504932",
   "metadata": {},
   "outputs": [],
   "source": [
    "def checkWin():\n",
    "    global gameRunning\n",
    "    if checkDiag(board) or checkHorizontal(board) or checkRow(board):\n",
    "        print(f\"The winner is {winner}\")\n",
    "        gameRunning = False"
   ]
  },
  {
   "cell_type": "code",
   "execution_count": 9,
   "id": "2ea3cfc2",
   "metadata": {},
   "outputs": [],
   "source": [
    "#switch the player\n",
    "def switchPlayer():\n",
    "    global currentPlayer\n",
    "    if currentPlayer == \"X\":\n",
    "        currentPlayer = \"O\"\n",
    "    else:\n",
    "        currentPlayer = \"X\""
   ]
  },
  {
   "cell_type": "code",
   "execution_count": 10,
   "id": "41ee6ac7",
   "metadata": {},
   "outputs": [],
   "source": [
    "def computer(board):\n",
    "    while currentPlayer == \"O\":\n",
    "        position = random.randint(0,8)\n",
    "        if board[position] == \"-\":\n",
    "            board[position] = \"O\"\n",
    "            switchPlayer()"
   ]
  },
  {
   "cell_type": "code",
   "execution_count": 11,
   "id": "a2ca336c",
   "metadata": {},
   "outputs": [
    {
     "name": "stdout",
     "output_type": "stream",
     "text": [
      "- | - | - | \n",
      "-------------\n",
      "- | - | - | \n",
      "-------------\n",
      "- | - | - | \n",
      "Enter a number 1-9: 1\n",
      "X | - | - | \n",
      "-------------\n",
      "- | - | - | \n",
      "-------------\n",
      "O | - | - | \n",
      "Enter a number 1-9: 3\n",
      "X | - | X | \n",
      "-------------\n",
      "O | - | - | \n",
      "-------------\n",
      "O | - | - | \n",
      "Enter a number 1-9: 2\n",
      "The winner is X\n",
      "The winner is X\n"
     ]
    }
   ],
   "source": [
    "while gameRunning:\n",
    "    printBoard(board)\n",
    "    playerInput(board)\n",
    "    checkWin()\n",
    "    checkTie(board)\n",
    "    switchPlayer()\n",
    "    computer(board)\n",
    "    checkWin()\n",
    "    checkTie(board)"
   ]
  },
  {
   "cell_type": "code",
   "execution_count": null,
   "id": "f0c5f1f0",
   "metadata": {},
   "outputs": [],
   "source": []
  }
 ],
 "metadata": {
  "kernelspec": {
   "display_name": "Python 3 (ipykernel)",
   "language": "python",
   "name": "python3"
  },
  "language_info": {
   "codemirror_mode": {
    "name": "ipython",
    "version": 3
   },
   "file_extension": ".py",
   "mimetype": "text/x-python",
   "name": "python",
   "nbconvert_exporter": "python",
   "pygments_lexer": "ipython3",
   "version": "3.9.13"
  }
 },
 "nbformat": 4,
 "nbformat_minor": 5
}
